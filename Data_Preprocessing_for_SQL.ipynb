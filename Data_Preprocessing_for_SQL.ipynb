{
  "nbformat": 4,
  "nbformat_minor": 0,
  "metadata": {
    "colab": {
      "provenance": [],
      "authorship_tag": "ABX9TyPruIP8ibSpfu1cHq2i7Je0",
      "include_colab_link": true
    },
    "kernelspec": {
      "name": "python3",
      "display_name": "Python 3"
    },
    "language_info": {
      "name": "python"
    }
  },
  "cells": [
    {
      "cell_type": "markdown",
      "metadata": {
        "id": "view-in-github",
        "colab_type": "text"
      },
      "source": [
        "<a href=\"https://colab.research.google.com/github/yeoh01736/Sales-Data-Preprocessing-for-SQL/blob/main/Data_Preprocessing_for_SQL.ipynb\" target=\"_parent\"><img src=\"https://colab.research.google.com/assets/colab-badge.svg\" alt=\"Open In Colab\"/></a>"
      ]
    },
    {
      "cell_type": "markdown",
      "source": [
        "# Data Preprocessing"
      ],
      "metadata": {
        "id": "GxZbqwMQ7_dm"
      }
    },
    {
      "cell_type": "markdown",
      "source": [
        "Step 1: Load the raw data"
      ],
      "metadata": {
        "id": "c3SOPJ6Y8DyK"
      }
    },
    {
      "cell_type": "code",
      "execution_count": 3,
      "metadata": {
        "id": "yGF6sey36wV1"
      },
      "outputs": [],
      "source": [
        "import pandas as pd\n",
        "\n",
        "df = pd.read_csv(\"mock_sp500_sales_data.csv\")"
      ]
    },
    {
      "cell_type": "markdown",
      "source": [
        "Step 2: Standardize column names"
      ],
      "metadata": {
        "id": "SF1l3p8C8f7l"
      }
    },
    {
      "cell_type": "code",
      "source": [
        "df.columns = df.columns.str.strip().str.lower().str.replace(' ','_')\n"
      ],
      "metadata": {
        "id": "W0LJeFix8jJi"
      },
      "execution_count": 4,
      "outputs": []
    },
    {
      "cell_type": "markdown",
      "source": [
        "Step 3: Clean date format"
      ],
      "metadata": {
        "id": "IN6wfd5m9jZK"
      }
    },
    {
      "cell_type": "code",
      "source": [
        "df['date'] = pd.to_datetime(df['date'], errors='coerce')"
      ],
      "metadata": {
        "colab": {
          "base_uri": "https://localhost:8080/"
        },
        "id": "9Qt6JljQ-Arg",
        "outputId": "fc380bee-90e1-4943-d001-f894d4feef4a"
      },
      "execution_count": 5,
      "outputs": [
        {
          "output_type": "stream",
          "name": "stderr",
          "text": [
            "<ipython-input-5-8f41cd04273f>:1: UserWarning: Parsing dates in %d/%m/%Y format when dayfirst=False (the default) was specified. Pass `dayfirst=True` or specify a format to silence this warning.\n",
            "  df['date'] = pd.to_datetime(df['date'], errors='coerce')\n"
          ]
        }
      ]
    },
    {
      "cell_type": "markdown",
      "source": [
        "Step 4: Clean numerical columns"
      ],
      "metadata": {
        "id": "iPGwIkUvBwN9"
      }
    },
    {
      "cell_type": "code",
      "source": [
        "# Remove $ from price and convert to numeric\n",
        "df['price_(usd)']=df['price_(usd)'].replace('[\\$]','', regex=True).astype(float)\n",
        "\n",
        "# Remove negative and null quantities\n",
        "df=df[df['quantity'].notnull() & (df['quantity']>0)]\n"
      ],
      "metadata": {
        "id": "zMuXomSaBzaz"
      },
      "execution_count": 6,
      "outputs": []
    },
    {
      "cell_type": "markdown",
      "source": [
        "Step 5: Normalize text columns"
      ],
      "metadata": {
        "id": "IUTxpbMwDD3y"
      }
    },
    {
      "cell_type": "code",
      "source": [
        "# normalize 'product' and 'region'\n",
        "df['product']=df['product'].str.lower().str.strip()\n",
        "df['region']=df['region'].str.lower().str.strip()\n"
      ],
      "metadata": {
        "id": "rcWqejArDG7Z"
      },
      "execution_count": 7,
      "outputs": []
    },
    {
      "cell_type": "markdown",
      "source": [
        "Step 6: Generate into csv file"
      ],
      "metadata": {
        "id": "xL79IbP1YwfJ"
      }
    },
    {
      "cell_type": "code",
      "source": [
        "df.to_csv('cleaned_sp500_sales_data.csv', index=False)\n",
        "from google.colab import files\n",
        "files.download('cleaned_sp500_sales_data.csv')"
      ],
      "metadata": {
        "colab": {
          "base_uri": "https://localhost:8080/",
          "height": 17
        },
        "id": "-5b2BT23Gmdg",
        "outputId": "6f35794f-c3f3-44c0-9f87-eb00534f4223"
      },
      "execution_count": 8,
      "outputs": [
        {
          "output_type": "display_data",
          "data": {
            "text/plain": [
              "<IPython.core.display.Javascript object>"
            ],
            "application/javascript": [
              "\n",
              "    async function download(id, filename, size) {\n",
              "      if (!google.colab.kernel.accessAllowed) {\n",
              "        return;\n",
              "      }\n",
              "      const div = document.createElement('div');\n",
              "      const label = document.createElement('label');\n",
              "      label.textContent = `Downloading \"${filename}\": `;\n",
              "      div.appendChild(label);\n",
              "      const progress = document.createElement('progress');\n",
              "      progress.max = size;\n",
              "      div.appendChild(progress);\n",
              "      document.body.appendChild(div);\n",
              "\n",
              "      const buffers = [];\n",
              "      let downloaded = 0;\n",
              "\n",
              "      const channel = await google.colab.kernel.comms.open(id);\n",
              "      // Send a message to notify the kernel that we're ready.\n",
              "      channel.send({})\n",
              "\n",
              "      for await (const message of channel.messages) {\n",
              "        // Send a message to notify the kernel that we're ready.\n",
              "        channel.send({})\n",
              "        if (message.buffers) {\n",
              "          for (const buffer of message.buffers) {\n",
              "            buffers.push(buffer);\n",
              "            downloaded += buffer.byteLength;\n",
              "            progress.value = downloaded;\n",
              "          }\n",
              "        }\n",
              "      }\n",
              "      const blob = new Blob(buffers, {type: 'application/binary'});\n",
              "      const a = document.createElement('a');\n",
              "      a.href = window.URL.createObjectURL(blob);\n",
              "      a.download = filename;\n",
              "      div.appendChild(a);\n",
              "      a.click();\n",
              "      div.remove();\n",
              "    }\n",
              "  "
            ]
          },
          "metadata": {}
        },
        {
          "output_type": "display_data",
          "data": {
            "text/plain": [
              "<IPython.core.display.Javascript object>"
            ],
            "application/javascript": [
              "download(\"download_8d0c3edb-cee4-4679-ae89-53d2ec65dd9c\", \"cleaned_sp500_sales_data.csv\", 2715)"
            ]
          },
          "metadata": {}
        }
      ]
    },
    {
      "cell_type": "markdown",
      "source": [
        "Other: Remove fully duplicate rows"
      ],
      "metadata": {
        "id": "ZQZfjkX7Y5fg"
      }
    },
    {
      "cell_type": "code",
      "source": [
        "# Other: Remove fully duplicate rows\n",
        "df = df.drop_duplicates()"
      ],
      "metadata": {
        "id": "t8nLse3XY_jd"
      },
      "execution_count": null,
      "outputs": []
    },
    {
      "cell_type": "markdown",
      "source": [
        "Other: Remove duplicate customers (keep first entry)"
      ],
      "metadata": {
        "id": "dUXx37SJac4T"
      }
    },
    {
      "cell_type": "code",
      "source": [
        "df=df.drop_duplicates(subset=['customer'], keep='first')\n",
        "\n",
        "# first - keeps the first occurence (default)\n",
        "# last - keeps the last occurence\n",
        "# false - removes all duplicates (i.e. keeps none)"
      ],
      "metadata": {
        "id": "KdoX0_kfahfm"
      },
      "execution_count": 9,
      "outputs": []
    },
    {
      "cell_type": "markdown",
      "source": [
        "Other: Remove duplicate combinations (e.g. customer + date)"
      ],
      "metadata": {
        "id": "F63vSUo5bQXb"
      }
    },
    {
      "cell_type": "code",
      "source": [
        "df = df.drop_duplicates(subset=['customer','date'])"
      ],
      "metadata": {
        "id": "iRrBe392a-ae"
      },
      "execution_count": null,
      "outputs": []
    },
    {
      "cell_type": "markdown",
      "source": [
        "Other: Drop only if certain columns match"
      ],
      "metadata": {
        "id": "b6rg3HZXb1Qr"
      }
    },
    {
      "cell_type": "code",
      "source": [
        "# below example is to remove duplicates based on product + region only\n",
        "df = df.drop_duplicates(subset=['product','region'])"
      ],
      "metadata": {
        "id": "T6-UdHyib5ME"
      },
      "execution_count": 10,
      "outputs": []
    },
    {
      "cell_type": "markdown",
      "source": [
        "Other: Reset index after cleaning"
      ],
      "metadata": {
        "id": "3i7_vcTfdOLi"
      }
    },
    {
      "cell_type": "code",
      "source": [
        "df=df.reset_index(drop=True)"
      ],
      "metadata": {
        "id": "x712J92mctbb"
      },
      "execution_count": null,
      "outputs": []
    }
  ]
}